{
 "cells": [
  {
   "cell_type": "code",
   "execution_count": 1,
   "metadata": {},
   "outputs": [],
   "source": [
    "import pandas as pd\n",
    "import numpy as np\n",
    "import matplotlib.pyplot as plt\n",
    "#!pip3 install nlpaug\n",
    "import tarfile\n",
    "from wordcloud import WordCloud, STOPWORDS\n",
    "import re\n",
    "%matplotlib inline\n",
    "import tensorflow as tf\n",
    "from tensorflow.keras.layers import Embedding, LSTM, Dense,Bidirectional\n",
    "from tensorflow.keras.models import Model\n",
    "from tensorflow.keras.preprocessing.text import Tokenizer\n",
    "from tensorflow.keras.preprocessing.sequence import pad_sequences\n",
    "from tensorflow.keras.callbacks import ModelCheckpoint \n",
    "import datetime"
   ]
  },
  {
   "cell_type": "code",
   "execution_count": 2,
   "metadata": {},
   "outputs": [],
   "source": [
    "import tarfile\n",
    "fname='D:/sentence correction 2/fce_v2.1.bea19.tar.gz'\n",
    "fname.endswith(\"tar.gz\")\n",
    "tar = tarfile.open(fname, \"r:gz\")\n",
    "tar.extractall()\n",
    "tar.close()"
   ]
  },
  {
   "cell_type": "code",
   "execution_count": 3,
   "metadata": {},
   "outputs": [],
   "source": [
    "def m2_to_txt(path):\n",
    "  '''\n",
    "  this function processes the .m2 format file \n",
    "  and converts the required sentence into txt format'''\n",
    "  m2 = open(path).read().strip().split(\"\\n\\n\")\n",
    "  corrupted = open('corrupted.txt', \"w\")\n",
    "  uncorrupted=open('uncorrupted.txt','w')\n",
    "  skip = {\"noop\", \"UNK\", \"Um\"}\n",
    "  for sent in m2:\n",
    "    sent=sent.split('\\n')\n",
    "  \n",
    "    incorr_sent=sent[0].split()[1:]\n",
    "  \n",
    "    corrupted.write(\" \".join(incorr_sent)+\"\\n\")\n",
    "    edits = sent[1:]\n",
    "  \n",
    "    offset=0\n",
    "  \n",
    "    for edit in edits:\n",
    "        edit = edit.split(\"|||\")\n",
    "        if edit[1] in skip: continue # Ignore certain edits\n",
    "        \n",
    "        \n",
    "        span = edit[0].split()[1:] # Ignore \"A \"\n",
    "        start = int(span[0])\n",
    "        end = int(span[1])\n",
    "        cor = edit[2].split()\n",
    "        incorr_sent[start+offset:end+offset] = cor\n",
    "    \n",
    "        offset = offset-(end-start)+len(cor)\n",
    "      \n",
    "    uncorrupted.write(\" \".join(incorr_sent)+\"\\n\")"
   ]
  },
  {
   "cell_type": "code",
   "execution_count": 4,
   "metadata": {},
   "outputs": [],
   "source": [
    "m2_to_txt('D:/sentence correction 2/fce/m2/fce.dev.gold.bea19.m2')\n",
    "with open('uncorrupted.txt','r') as file:\n",
    "  uncorrupted=[]\n",
    "  line=file.readlines()\n",
    "  for lines in line:\n",
    "    uncorrupted.append(\" \".join(lines.split()[:len(lines)]))\n",
    "with open('corrupted.txt','r') as file:\n",
    "  corrupted=[]\n",
    "  line=file.readlines()\n",
    "  for lines in line:\n",
    "    corrupted.append(\" \".join(lines.split()[:len(lines)]))\n",
    "\n",
    "data1=pd.DataFrame(zip(corrupted,uncorrupted),columns=['corrupted','uncorrupted'])\n",
    "\n",
    "m2_to_txt('D:/sentence correction 2/fce/m2/fce.train.gold.bea19.m2')\n",
    "with open('uncorrupted.txt','r') as file:\n",
    "  uncorrupted=[]\n",
    "  line=file.readlines()\n",
    "  for lines in line:\n",
    "    uncorrupted.append(\" \".join(lines.split()[:len(lines)]))\n",
    "with open('corrupted.txt','r') as file:\n",
    "  corrupted=[]\n",
    "  line=file.readlines()\n",
    "  for lines in line:\n",
    "    corrupted.append(\" \".join(lines.split()[:len(lines)]))\n",
    "\n",
    "data2=pd.DataFrame(zip(corrupted,uncorrupted),columns=['corrupted','uncorrupted'])\n",
    "\n",
    "m2_to_txt('D:/sentence correction 2/fce/m2/fce.test.gold.bea19.m2')\n",
    "with open('uncorrupted.txt','r') as file:\n",
    "  uncorrupted=[]\n",
    "  line=file.readlines()\n",
    "  for lines in line:\n",
    "    uncorrupted.append(\" \".join(lines.split()[:len(lines)]))\n",
    "with open('corrupted.txt','r') as file:\n",
    "  corrupted=[]\n",
    "  line=file.readlines()\n",
    "  for lines in line:\n",
    "    corrupted.append(\" \".join(lines.split()[:len(lines)]))\n",
    "\n",
    "data3=pd.DataFrame(zip(corrupted,uncorrupted),columns=['corrupted','uncorrupted'])\n",
    "\n"
   ]
  },
  {
   "cell_type": "code",
   "execution_count": 5,
   "metadata": {},
   "outputs": [],
   "source": [
    "data=pd.concat([data1, data2, data3],ignore_index=True)"
   ]
  },
  {
   "cell_type": "code",
   "execution_count": 6,
   "metadata": {},
   "outputs": [],
   "source": [
    "data=data[data['corrupted']!=data['uncorrupted']]#removing rows which have same values in both columns"
   ]
  },
  {
   "cell_type": "code",
   "execution_count": 7,
   "metadata": {},
   "outputs": [],
   "source": [
    "fname='sm_norm_mt.tar.gz'\n",
    "fname.endswith(\"tar.gz\")\n",
    "tar = tarfile.open(fname, \"r:gz\")\n",
    "tar.extractall()\n",
    "tar.close()"
   ]
  },
  {
   "cell_type": "code",
   "execution_count": 8,
   "metadata": {},
   "outputs": [],
   "source": [
    "with open('D:/sentence correction 2/en2cn-2k.en2nen2cn','r') as file:\n",
    "  line=file.readlines()\n",
    "corrupted=[]\n",
    "uncorrupted=[]\n",
    "for i,lines in enumerate(line):\n",
    "  if i%3==0:\n",
    "    corrupted.append(lines.strip())\n",
    "  elif (i%3==1):\n",
    "    uncorrupted.append(lines.strip())\n",
    "  else:\n",
    "    pass"
   ]
  },
  {
   "cell_type": "code",
   "execution_count": 9,
   "metadata": {},
   "outputs": [],
   "source": [
    "data4=pd.DataFrame(zip(corrupted,uncorrupted),columns=['corrupted','uncorrupted'])"
   ]
  },
  {
   "cell_type": "code",
   "execution_count": 10,
   "metadata": {},
   "outputs": [],
   "source": [
    "data= data.sample(frac=1).reset_index(drop=True)"
   ]
  },
  {
   "cell_type": "code",
   "execution_count": 11,
   "metadata": {},
   "outputs": [],
   "source": [
    "data=data.drop_duplicates()"
   ]
  },
  {
   "cell_type": "code",
   "execution_count": 12,
   "metadata": {},
   "outputs": [],
   "source": [
    "\n",
    "def decontractions(phrase):\n",
    "  \"\"\"decontracted takes text and convert contractions into natural form.\n",
    "     ref: https://stackoverflow.com/questions/19790188/expanding-english-language-contractions-in-python/47091490#47091490\"\"\"\n",
    "\n",
    "  # specific\n",
    "  phrase = re.sub(r\"won\\'t\", \"will not\", phrase)\n",
    "  phrase = re.sub(r\"can\\'t\", \"can not\", phrase)\n",
    "  phrase = re.sub(r\"won\\’t\", \"will not\", phrase)\n",
    "  phrase = re.sub(r\"can\\’t\", \"can not\", phrase)\n",
    "\n",
    "  # general\n",
    "  phrase = re.sub(r\"n\\'t\", \" not\", phrase)\n",
    "  phrase = re.sub(r\"\\'re\", \" are\", phrase)\n",
    "  phrase = re.sub(r\"\\'s\", \" is\", phrase)\n",
    "  phrase = re.sub(r\"\\'d\", \" would\", phrase)\n",
    "  phrase = re.sub(r\"\\'ll\", \" will\", phrase)\n",
    "  phrase = re.sub(r\"\\'t\", \" not\", phrase)\n",
    "  phrase = re.sub(r\"\\'ve\", \" have\", phrase)\n",
    "  phrase = re.sub(r\"\\'m\", \" am\", phrase)\n",
    "\n",
    "  return phrase"
   ]
  },
  {
   "cell_type": "code",
   "execution_count": 13,
   "metadata": {},
   "outputs": [],
   "source": [
    "data['corrupted']=data['corrupted'].apply(lambda x:decontractions(x))\n",
    "data['uncorrupted']=data['uncorrupted'].apply(lambda x:decontractions(x))\n",
    "\n",
    "data4['corrupted']=data4['corrupted'].apply(lambda x:decontractions(x))\n",
    "data4['uncorrupted']=data4['uncorrupted'].apply(lambda x:decontractions(x))"
   ]
  },
  {
   "cell_type": "code",
   "execution_count": 14,
   "metadata": {},
   "outputs": [],
   "source": [
    "data['corrupted']=data['corrupted'].apply(lambda x:x.lower())\n",
    "data['uncorrupted']=data['uncorrupted'].apply(lambda x:x.lower())\n",
    "\n",
    "data4['corrupted']=data4['corrupted'].apply(lambda x:x.lower())\n",
    "data4['uncorrupted']=data4['uncorrupted'].apply(lambda x:x.lower())"
   ]
  },
  {
   "cell_type": "code",
   "execution_count": 15,
   "metadata": {},
   "outputs": [],
   "source": [
    "data['corrupted_len'] = data['corrupted'].str.split().apply(len)\n",
    "data = data[data['corrupted_len'] < 25]\n",
    "\n",
    "data['uncorrupted_len'] = data['uncorrupted'].str.split().apply(len)\n",
    "data = data[data['uncorrupted_len'] < 25]\n",
    "\n",
    "data4['corrupted_len'] = data4['corrupted'].str.split().apply(len)\n",
    "data4 = data4[data4['corrupted_len'] < 25]\n",
    "\n",
    "data4['uncorrupted_len'] = data4['uncorrupted'].str.split().apply(len)\n",
    "data4 = data4[data4['uncorrupted_len'] < 25]"
   ]
  },
  {
   "cell_type": "code",
   "execution_count": 16,
   "metadata": {},
   "outputs": [],
   "source": [
    "data['uncorrupted_inp']=data['uncorrupted'].apply(lambda x:('<START>'+' '+x))\n",
    "data['uncorrupted_op']=data['uncorrupted'].apply(lambda x:(x+' '+'<END>'))\n",
    "data.drop(['uncorrupted'],axis=1,inplace=True)\n",
    "\n",
    "data4['uncorrupted_inp']=data4['uncorrupted'].apply(lambda x:('<START>'+' '+x))\n",
    "data4['uncorrupted_op']=data4['uncorrupted'].apply(lambda x:(x+' '+'<END>'))\n",
    "data4.drop(['uncorrupted'],axis=1,inplace=True)"
   ]
  },
  {
   "cell_type": "code",
   "execution_count": 17,
   "metadata": {},
   "outputs": [],
   "source": [
    "data.drop(['corrupted_len','uncorrupted_len'],axis=1,inplace=True)\n",
    "data4.drop(['corrupted_len','uncorrupted_len'],axis=1,inplace=True)"
   ]
  },
  {
   "cell_type": "code",
   "execution_count": 18,
   "metadata": {},
   "outputs": [],
   "source": [
    "data=data.sample(5000)"
   ]
  },
  {
   "cell_type": "code",
   "execution_count": 19,
   "metadata": {},
   "outputs": [],
   "source": [
    "from sklearn.model_selection import train_test_split\n",
    "train, validation = train_test_split(data, test_size=0.2)"
   ]
  },
  {
   "cell_type": "code",
   "execution_count": 20,
   "metadata": {},
   "outputs": [
    {
     "data": {
      "text/plain": [
       "(4000, 3)"
      ]
     },
     "execution_count": 20,
     "metadata": {},
     "output_type": "execute_result"
    }
   ],
   "source": [
    "train.shape"
   ]
  },
  {
   "cell_type": "code",
   "execution_count": 21,
   "metadata": {},
   "outputs": [],
   "source": [
    "train=pd.concat([train,data4.iloc[0:1500]],ignore_index=True).astype(str)\n",
    "validation=pd.concat([validation,data4.iloc[1500:1676]],ignore_index=True).astype(str)"
   ]
  },
  {
   "cell_type": "code",
   "execution_count": 22,
   "metadata": {},
   "outputs": [
    {
     "data": {
      "text/html": [
       "<div>\n",
       "<style scoped>\n",
       "    .dataframe tbody tr th:only-of-type {\n",
       "        vertical-align: middle;\n",
       "    }\n",
       "\n",
       "    .dataframe tbody tr th {\n",
       "        vertical-align: top;\n",
       "    }\n",
       "\n",
       "    .dataframe thead th {\n",
       "        text-align: right;\n",
       "    }\n",
       "</style>\n",
       "<table border=\"1\" class=\"dataframe\">\n",
       "  <thead>\n",
       "    <tr style=\"text-align: right;\">\n",
       "      <th></th>\n",
       "      <th>corrupted</th>\n",
       "      <th>uncorrupted_inp</th>\n",
       "      <th>uncorrupted_op</th>\n",
       "    </tr>\n",
       "  </thead>\n",
       "  <tbody>\n",
       "    <tr>\n",
       "      <th>0</th>\n",
       "      <td>it is also the reason why we have all these ne...</td>\n",
       "      <td>&lt;START&gt; that is also the reason why we have al...</td>\n",
       "      <td>that is also the reason why we have all these ...</td>\n",
       "    </tr>\n",
       "    <tr>\n",
       "      <th>1</th>\n",
       "      <td>my wife and me went to the circle theatre last...</td>\n",
       "      <td>&lt;START&gt; my wife and i went to the circle theat...</td>\n",
       "      <td>my wife and i went to the circle theatre last ...</td>\n",
       "    </tr>\n",
       "    <tr>\n",
       "      <th>2</th>\n",
       "      <td>but i am wondering why it said we could visit ...</td>\n",
       "      <td>&lt;START&gt; but i am wondering why it said we coul...</td>\n",
       "      <td>but i am wondering why it said we could visit ...</td>\n",
       "    </tr>\n",
       "    <tr>\n",
       "      <th>3</th>\n",
       "      <td>but it might not be the same everytime .</td>\n",
       "      <td>&lt;START&gt; but it might not be the same every time .</td>\n",
       "      <td>but it might not be the same every time . &lt;END&gt;</td>\n",
       "    </tr>\n",
       "    <tr>\n",
       "      <th>4</th>\n",
       "      <td>that things had happend to everybody , had  no...</td>\n",
       "      <td>&lt;START&gt; those things happen to everybody , do ...</td>\n",
       "      <td>those things happen to everybody , do  not the...</td>\n",
       "    </tr>\n",
       "  </tbody>\n",
       "</table>\n",
       "</div>"
      ],
      "text/plain": [
       "                                           corrupted  \\\n",
       "0  it is also the reason why we have all these ne...   \n",
       "1  my wife and me went to the circle theatre last...   \n",
       "2  but i am wondering why it said we could visit ...   \n",
       "3           but it might not be the same everytime .   \n",
       "4  that things had happend to everybody , had  no...   \n",
       "\n",
       "                                     uncorrupted_inp  \\\n",
       "0  <START> that is also the reason why we have al...   \n",
       "1  <START> my wife and i went to the circle theat...   \n",
       "2  <START> but i am wondering why it said we coul...   \n",
       "3  <START> but it might not be the same every time .   \n",
       "4  <START> those things happen to everybody , do ...   \n",
       "\n",
       "                                      uncorrupted_op  \n",
       "0  that is also the reason why we have all these ...  \n",
       "1  my wife and i went to the circle theatre last ...  \n",
       "2  but i am wondering why it said we could visit ...  \n",
       "3    but it might not be the same every time . <END>  \n",
       "4  those things happen to everybody , do  not the...  "
      ]
     },
     "execution_count": 22,
     "metadata": {},
     "output_type": "execute_result"
    }
   ],
   "source": [
    "train.head()"
   ]
  },
  {
   "cell_type": "code",
   "execution_count": 23,
   "metadata": {},
   "outputs": [
    {
     "name": "stdout",
     "output_type": "stream",
     "text": [
      "(5500, 3) (1175, 3)\n"
     ]
    },
    {
     "name": "stderr",
     "output_type": "stream",
     "text": [
      "C:\\Users\\Shivam\\AppData\\Local\\Temp\\ipykernel_13084\\3666877369.py:4: SettingWithCopyWarning: \n",
      "A value is trying to be set on a copy of a slice from a DataFrame\n",
      "\n",
      "See the caveats in the documentation: https://pandas.pydata.org/pandas-docs/stable/user_guide/indexing.html#returning-a-view-versus-a-copy\n",
      "  train.iloc[0]['uncorrupted_inp']= str(train.iloc[0]['uncorrupted_inp'])+' <end>'\n",
      "C:\\Users\\Shivam\\AppData\\Local\\Temp\\ipykernel_13084\\3666877369.py:5: SettingWithCopyWarning: \n",
      "A value is trying to be set on a copy of a slice from a DataFrame\n",
      "\n",
      "See the caveats in the documentation: https://pandas.pydata.org/pandas-docs/stable/user_guide/indexing.html#returning-a-view-versus-a-copy\n",
      "  train.iloc[0]['uncorrupted_out']= str(train.iloc[0]['uncorrupted_op'])+' <end>'\n",
      "C:\\Users\\Shivam\\AppData\\Local\\Temp\\ipykernel_13084\\3666877369.py:5: SettingWithCopyWarning: \n",
      "A value is trying to be set on a copy of a slice from a DataFrame\n",
      "\n",
      "See the caveats in the documentation: https://pandas.pydata.org/pandas-docs/stable/user_guide/indexing.html#returning-a-view-versus-a-copy\n",
      "  train.iloc[0]['uncorrupted_out']= str(train.iloc[0]['uncorrupted_op'])+' <end>'\n"
     ]
    }
   ],
   "source": [
    "print(train.shape, validation.shape)\n",
    "# for one sentence we will be adding <end> token so that the tokanizer learns the word <end>\n",
    "# with this we can use only one tokenizer for both encoder output and decoder output\n",
    "train.iloc[0]['uncorrupted_inp']= str(train.iloc[0]['uncorrupted_inp'])+' <end>'\n",
    "train.iloc[0]['uncorrupted_out']= str(train.iloc[0]['uncorrupted_op'])+' <end>'"
   ]
  },
  {
   "cell_type": "code",
   "execution_count": 24,
   "metadata": {},
   "outputs": [
    {
     "data": {
      "text/html": [
       "<div>\n",
       "<style scoped>\n",
       "    .dataframe tbody tr th:only-of-type {\n",
       "        vertical-align: middle;\n",
       "    }\n",
       "\n",
       "    .dataframe tbody tr th {\n",
       "        vertical-align: top;\n",
       "    }\n",
       "\n",
       "    .dataframe thead th {\n",
       "        text-align: right;\n",
       "    }\n",
       "</style>\n",
       "<table border=\"1\" class=\"dataframe\">\n",
       "  <thead>\n",
       "    <tr style=\"text-align: right;\">\n",
       "      <th></th>\n",
       "      <th>corrupted</th>\n",
       "      <th>uncorrupted_inp</th>\n",
       "      <th>uncorrupted_op</th>\n",
       "    </tr>\n",
       "  </thead>\n",
       "  <tbody>\n",
       "    <tr>\n",
       "      <th>4030</th>\n",
       "      <td>ok...i try...coz i am still on é bus...is xin ...</td>\n",
       "      <td>&lt;START&gt; ok. i will try. it is because i am sti...</td>\n",
       "      <td>ok. i will try. it is because i am still on th...</td>\n",
       "    </tr>\n",
       "    <tr>\n",
       "      <th>2710</th>\n",
       "      <td>this is great opportunity for the student to l...</td>\n",
       "      <td>&lt;START&gt; this is a great opportunity for the st...</td>\n",
       "      <td>this is a great opportunity for the students t...</td>\n",
       "    </tr>\n",
       "    <tr>\n",
       "      <th>2884</th>\n",
       "      <td>while i  am at the camp , i would like to do t...</td>\n",
       "      <td>&lt;START&gt; while i  am at the camp , i would like...</td>\n",
       "      <td>while i  am at the camp , i would like to do t...</td>\n",
       "    </tr>\n",
       "    <tr>\n",
       "      <th>908</th>\n",
       "      <td>i said she looked as if she did  not want to t...</td>\n",
       "      <td>&lt;START&gt; i said . she looked as if she did  not...</td>\n",
       "      <td>i said . she looked as if she did  not want to...</td>\n",
       "    </tr>\n",
       "    <tr>\n",
       "      <th>3037</th>\n",
       "      <td>the main advantage of modern technology is get...</td>\n",
       "      <td>&lt;START&gt; the main advantage of modern technolog...</td>\n",
       "      <td>the main advantage of modern technology is get...</td>\n",
       "    </tr>\n",
       "    <tr>\n",
       "      <th>...</th>\n",
       "      <td>...</td>\n",
       "      <td>...</td>\n",
       "      <td>...</td>\n",
       "    </tr>\n",
       "    <tr>\n",
       "      <th>1268</th>\n",
       "      <td>these are some points i want mention about the...</td>\n",
       "      <td>&lt;START&gt; these are some points i want to mentio...</td>\n",
       "      <td>these are some points i want to mention about ...</td>\n",
       "    </tr>\n",
       "    <tr>\n",
       "      <th>51</th>\n",
       "      <td>i  am writing to you to complain about last ev...</td>\n",
       "      <td>&lt;START&gt; i  am writing to you to complain about...</td>\n",
       "      <td>i  am writing to you to complain about last ev...</td>\n",
       "    </tr>\n",
       "    <tr>\n",
       "      <th>3631</th>\n",
       "      <td>first i would like to thank you for doing this...</td>\n",
       "      <td>&lt;START&gt; first i would like to thank you for or...</td>\n",
       "      <td>first i would like to thank you for organising...</td>\n",
       "    </tr>\n",
       "    <tr>\n",
       "      <th>4331</th>\n",
       "      <td>really how much...</td>\n",
       "      <td>&lt;START&gt; really, how much?</td>\n",
       "      <td>really, how much? &lt;END&gt;</td>\n",
       "    </tr>\n",
       "    <tr>\n",
       "      <th>5441</th>\n",
       "      <td>can to intro yourself</td>\n",
       "      <td>&lt;START&gt; can to intro yourself?</td>\n",
       "      <td>can to intro yourself? &lt;END&gt;</td>\n",
       "    </tr>\n",
       "  </tbody>\n",
       "</table>\n",
       "<p>5500 rows × 3 columns</p>\n",
       "</div>"
      ],
      "text/plain": [
       "                                              corrupted  \\\n",
       "4030  ok...i try...coz i am still on é bus...is xin ...   \n",
       "2710  this is great opportunity for the student to l...   \n",
       "2884  while i  am at the camp , i would like to do t...   \n",
       "908   i said she looked as if she did  not want to t...   \n",
       "3037  the main advantage of modern technology is get...   \n",
       "...                                                 ...   \n",
       "1268  these are some points i want mention about the...   \n",
       "51    i  am writing to you to complain about last ev...   \n",
       "3631  first i would like to thank you for doing this...   \n",
       "4331                                 really how much...   \n",
       "5441                              can to intro yourself   \n",
       "\n",
       "                                        uncorrupted_inp  \\\n",
       "4030  <START> ok. i will try. it is because i am sti...   \n",
       "2710  <START> this is a great opportunity for the st...   \n",
       "2884  <START> while i  am at the camp , i would like...   \n",
       "908   <START> i said . she looked as if she did  not...   \n",
       "3037  <START> the main advantage of modern technolog...   \n",
       "...                                                 ...   \n",
       "1268  <START> these are some points i want to mentio...   \n",
       "51    <START> i  am writing to you to complain about...   \n",
       "3631  <START> first i would like to thank you for or...   \n",
       "4331                          <START> really, how much?   \n",
       "5441                     <START> can to intro yourself?   \n",
       "\n",
       "                                         uncorrupted_op  \n",
       "4030  ok. i will try. it is because i am still on th...  \n",
       "2710  this is a great opportunity for the students t...  \n",
       "2884  while i  am at the camp , i would like to do t...  \n",
       "908   i said . she looked as if she did  not want to...  \n",
       "3037  the main advantage of modern technology is get...  \n",
       "...                                                 ...  \n",
       "1268  these are some points i want to mention about ...  \n",
       "51    i  am writing to you to complain about last ev...  \n",
       "3631  first i would like to thank you for organising...  \n",
       "4331                            really, how much? <END>  \n",
       "5441                       can to intro yourself? <END>  \n",
       "\n",
       "[5500 rows x 3 columns]"
      ]
     },
     "execution_count": 24,
     "metadata": {},
     "output_type": "execute_result"
    }
   ],
   "source": [
    "train.sample(frac=1)"
   ]
  },
  {
   "cell_type": "code",
   "execution_count": 29,
   "metadata": {},
   "outputs": [],
   "source": [
    "from tensorflow.keras.preprocessing.text import Tokenizer\n",
    "tok_corrupted=Tokenizer(filters='#$%&()*+-/=@[\\\\]^_`{|}~\\t\\n')\n",
    "tok_corrupted.fit_on_texts(train['corrupted'].values)\n",
    "\n",
    "tok_uncorrupted=Tokenizer(filters='#$%&()*+-/=@[\\\\]^_`{|}~\\t\\n')\n",
    "tok_uncorrupted.fit_on_texts(train['uncorrupted_inp'].values)\n",
    "tok_uncorrupted.fit_on_texts(train['uncorrupted_op'].values)"
   ]
  },
  {
   "cell_type": "code",
   "execution_count": 30,
   "metadata": {},
   "outputs": [
    {
     "name": "stdout",
     "output_type": "stream",
     "text": [
      "7594\n",
      "6027\n"
     ]
    }
   ],
   "source": [
    "vocab_corrupt=len(tok_corrupted.word_index.keys())\n",
    "print(vocab_corrupt)\n",
    "\n",
    "vocab_uncorrupt=len(tok_uncorrupted.word_index.keys())\n",
    "print(vocab_uncorrupt)"
   ]
  },
  {
   "cell_type": "code",
   "execution_count": null,
   "metadata": {},
   "outputs": [],
   "source": []
  }
 ],
 "metadata": {
  "kernelspec": {
   "display_name": "Python 3",
   "language": "python",
   "name": "python3"
  },
  "language_info": {
   "codemirror_mode": {
    "name": "ipython",
    "version": 3
   },
   "file_extension": ".py",
   "mimetype": "text/x-python",
   "name": "python",
   "nbconvert_exporter": "python",
   "pygments_lexer": "ipython3",
   "version": "3.10.11"
  },
  "orig_nbformat": 4
 },
 "nbformat": 4,
 "nbformat_minor": 2
}
